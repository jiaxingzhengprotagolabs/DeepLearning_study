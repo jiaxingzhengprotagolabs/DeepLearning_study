{
 "cells": [
  {
   "cell_type": "code",
   "execution_count": null,
   "metadata": {},
   "outputs": [],
   "source": [
    "Logistic Regression with a Neural Network mindset\n",
    "\n",
    "Welcome to your first (required) programming assignment! You will build a logistic regression classifier to recognize cats. This assignment will step you through how to do this with a Neural Network mindset, and so will also hone your intuitions about deep learning.\n",
    "\n",
    "Instructions:\n",
    "\n",
    "    Do not use loops (for/while) in your code, unless the instructions explicitly ask you to do so.\n",
    "\n",
    "You will learn to:\n",
    "\n",
    "    Build the general architecture of a learning algorithm, including:\n",
    "        Initializing parameters\n",
    "        Calculating the cost function and its gradient\n",
    "        Using an optimization algorithm (gradient descent)\n",
    "    Gather all three functions above into a main model function, in the right order.\n",
    "\n",
    "1 - Packages\n",
    "\n",
    "First, let's run the cell below to import all the packages that you will need during this assignment.\n",
    "\n",
    "    numpy is the fundamental package for scientific computing with Python.\n",
    "    h5py is a common package to interact with a dataset that is stored on an H5 file.\n",
    "    matplotlib is a famous library to plot graphs in Python.\n",
    "    PIL and scipy are used here to test your model with your own picture at the end.\n",
    "\n"
   ]
  }
 ],
 "metadata": {
  "kernelspec": {
   "display_name": "Python 3",
   "language": "python",
   "name": "python3"
  },
  "language_info": {
   "codemirror_mode": {
    "name": "ipython",
    "version": 3
   },
   "file_extension": ".py",
   "mimetype": "text/x-python",
   "name": "python",
   "nbconvert_exporter": "python",
   "pygments_lexer": "ipython3",
   "version": "3.6.5"
  }
 },
 "nbformat": 4,
 "nbformat_minor": 2
}
