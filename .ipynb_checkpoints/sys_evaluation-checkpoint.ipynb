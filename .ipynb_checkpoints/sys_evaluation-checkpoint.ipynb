{
 "cells": [
  {
   "cell_type": "code",
   "execution_count": 1,
   "metadata": {},
   "outputs": [],
   "source": [
    "import numpy as np\n",
    "import pandas as pd\n",
    "import sys, re\n",
    "import shutil"
   ]
  },
  {
   "cell_type": "raw",
   "metadata": {},
   "source": [
    "# 原始数据测试格式\n",
    "data = []\n",
    "with open('test.txt') as f:\n",
    "    for line in f.readlines():\n",
    "        line=line.strip('\\n').split('\\t')\n",
    "        data.append(line)\n",
    "        \n",
    "dicts = [\n",
    "    {\n",
    "        \"id\": data[0][0],\n",
    "        \"score\": data[0][1],\n",
    "        \"Q\":data[0][2],\n",
    "        \"A\":data[0][3]\n",
    "    },\n",
    "    \n",
    "    {\n",
    "        \"id\": data[1][0],\n",
    "        \"score\": data[1][1],\n",
    "        \"Q\":data[1][2],\n",
    "        \"A\":data[1][3]\n",
    "    },\n",
    "    \n",
    "    {\n",
    "        \"id\": data[2][0],\n",
    "        \"score\": data[2][1],\n",
    "        \"Q\":data[2][2],\n",
    "        \"A\":data[2][3]\n",
    "    }\n",
    "]"
   ]
  },
  {
   "cell_type": "markdown",
   "metadata": {},
   "source": [
    "导入数据，format： \n",
    "id    model_score   question   answer   label"
   ]
  },
  {
   "cell_type": "code",
   "execution_count": 23,
   "metadata": {},
   "outputs": [],
   "source": [
    "## 每个问句都是返回前三sore的问答句pair，label暂时都为0，方便之后处理\n",
    "pada1 = pd.read_csv('test1.txt', sep='\\t')\n",
    "pada2 = pd.read_csv('test2.txt', sep='\\t')\n",
    "pada3 = pd.read_csv('test3.txt', sep='\\t')\n",
    "raters = pd.read_csv('raters.csv', sep='\\t')"
   ]
  },
  {
   "cell_type": "markdown",
   "metadata": {},
   "source": [
    "dicts = []  ### dicts[pada0, pada1, pada2, pada3.......padak]"
   ]
  },
  {
   "cell_type": "code",
   "execution_count": 32,
   "metadata": {},
   "outputs": [
    {
     "ename": "IndentationError",
     "evalue": "expected an indented block (<ipython-input-32-6bab39cb4205>, line 7)",
     "output_type": "error",
     "traceback": [
      "\u001b[0;36m  File \u001b[0;32m\"<ipython-input-32-6bab39cb4205>\"\u001b[0;36m, line \u001b[0;32m7\u001b[0m\n\u001b[0;31m    for i in range(lens):\u001b[0m\n\u001b[0m      ^\u001b[0m\n\u001b[0;31mIndentationError\u001b[0m\u001b[0;31m:\u001b[0m expected an indented block\n"
     ]
    }
   ],
   "source": [
    "def labeled(dicts, raters):\n",
    "    if dicts == None:\n",
    "        print(\"Please load your test set!\")\n",
    "        return 0\n",
    "    lens = 0\n",
    "    if len(dicts) != len(raters):\n",
    "        lens = len(dicts)\n",
    "    else:\n",
    "        lens = len(raters)\n",
    "    \n",
    "    for i in range(lens):\n",
    "        \n",
    "        "
   ]
  },
  {
   "cell_type": "code",
   "execution_count": 50,
   "metadata": {},
   "outputs": [
    {
     "data": {
      "text/plain": [
       "pandas.core.frame.DataFrame"
      ]
     },
     "execution_count": 50,
     "metadata": {},
     "output_type": "execute_result"
    }
   ],
   "source": [
    "type(dicts[1])"
   ]
  },
  {
   "cell_type": "markdown",
   "metadata": {},
   "source": [
    "calculate the matrix"
   ]
  },
  {
   "cell_type": "code",
   "execution_count": 155,
   "metadata": {},
   "outputs": [],
   "source": [
    "sum = 0\n",
    "### precision@1\n",
    "for i in range(len(dicts)):\n",
    "    sum += dicts[i][\"label\"][0]\n",
    "    \n",
    "precision1 = sum / len(dicts)\n",
    "\n"
   ]
  },
  {
   "cell_type": "code",
   "execution_count": 8,
   "metadata": {},
   "outputs": [],
   "source": [
    "def precision(dicts, k):\n",
    "    if dicts == None:\n",
    "        print(\"Please load your test set!\")\n",
    "        return 0\n",
    "    if k <= 0 or k > len(dicts):\n",
    "        print(\"please input a valid value for k, which is from 1  to\" + len(dicts))\n",
    "        return 0\n",
    "    \n",
    "    sum = 0\n",
    "    ## 对于sample中每一个rank为k的问答句pair precision@k = sum / sample中所有rank为k的问句总数\n",
    "    for q in dicts:\n",
    "        sum += q[\"label\"][k-1]\n",
    "    res = sum / len(dicts)\n",
    "    return res\n",
    "\n",
    "\n",
    "\n",
    "## MAP value\n",
    "def mAP(dicts, k):\n",
    "    \n",
    "    if dicts == None:\n",
    "        print(\"Please load your test set!\")\n",
    "        return 0\n",
    "    if k <= 0 or k > len(dicts):\n",
    "        print(\"please input a valid value for k, which is from 1  to\" + len(dicts))\n",
    "        return 0\n",
    "    \n",
    "    sum1 = 0\n",
    "    for q in dicts:\n",
    "        sum2 = 0\n",
    "        Nq = 0\n",
    "        for i in range(k):\n",
    "            sum2 += precision(dicts, i+1) * (precision(dicts, i+1) * len(dicts))\n",
    "        for j in range(len(q)):\n",
    "            Nq += q[\"label\"][j]\n",
    "            \n",
    "        sum1 += sum2 / Nq\n",
    "    return sum1 / len(dicts)\n",
    "\n",
    "## rank(i) ???\n",
    "def rank(q):\n",
    "    return 1\n",
    "\n",
    "## MRR\n",
    "def mRR(dicts):\n",
    "    if dicts == None:\n",
    "        print(\"Please load your test set!\")\n",
    "        return 0\n",
    "    \n",
    "    sum1 = 0\n",
    "    for q in dicts:\n",
    "        sum1 += 1 / rank(q)\n",
    "    return sum1 / len(dicts)\n",
    "\n",
    "\n",
    "## Z is a constant number\n",
    "Z = 2.331\n",
    "\n",
    "## nDCG\n",
    "def nDCG(dicts, k):\n",
    "    if dicts == None:\n",
    "        print(\"Please load your test set!\")\n",
    "        return 0\n",
    "    if k <= 0 or k > len(dicts):\n",
    "        print(\"please input a valid value for k, which is from 1  to\" + len(dicts))\n",
    "        return 0\n",
    "    \n",
    "    sum1 = 0\n",
    "    for q in dicts:\n",
    "        sum2 = 0\n",
    "        for i in range(k):\n",
    "            sum2 += (2**(precision(dicts, i+1) * len(dicts)) - 1) / np.log(1 + (i+1))\n",
    "        \n",
    "        sum1 += sum2 / Z\n",
    "                     \n",
    "        return sum1 / len(dicts)"
   ]
  },
  {
   "cell_type": "code",
   "execution_count": 9,
   "metadata": {},
   "outputs": [
    {
     "data": {
      "text/plain": [
       "0.20630559715271893"
      ]
     },
     "execution_count": 9,
     "metadata": {},
     "output_type": "execute_result"
    }
   ],
   "source": [
    "nDCG(dicts, 1)"
   ]
  },
  {
   "cell_type": "code",
   "execution_count": null,
   "metadata": {},
   "outputs": [],
   "source": []
  }
 ],
 "metadata": {
  "kernelspec": {
   "display_name": "Python 3",
   "language": "python",
   "name": "python3"
  },
  "language_info": {
   "codemirror_mode": {
    "name": "ipython",
    "version": 3
   },
   "file_extension": ".py",
   "mimetype": "text/x-python",
   "name": "python",
   "nbconvert_exporter": "python",
   "pygments_lexer": "ipython3",
   "version": "3.6.5"
  }
 },
 "nbformat": 4,
 "nbformat_minor": 2
}
