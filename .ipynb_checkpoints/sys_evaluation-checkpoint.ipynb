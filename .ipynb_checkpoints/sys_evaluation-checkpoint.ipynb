{
 "cells": [
  {
   "cell_type": "code",
   "execution_count": 59,
   "metadata": {},
   "outputs": [],
   "source": [
    "import numpy as np\n",
    "import pandas as pd\n",
    "import sys, re\n",
    "import shutil"
   ]
  },
  {
   "cell_type": "code",
   "execution_count": null,
   "metadata": {},
   "outputs": [],
   "source": [
    "## 原始数据测试格式\n",
    "data = []\n",
    "with open('test.txt') as f:\n",
    "    for line in f.readlines():\n",
    "        line=line.strip('\\n').split('\\t')\n",
    "        data.append(line)\n",
    "        \n",
    "dicts = [\n",
    "    {\n",
    "        \"id\": data[0][0],\n",
    "        \"score\": data[0][1],\n",
    "        \"Q\":data[0][2],\n",
    "        \"A\":data[0][3]\n",
    "    },\n",
    "    \n",
    "    {\n",
    "        \"id\": data[1][0],\n",
    "        \"score\": data[1][1],\n",
    "        \"Q\":data[1][2],\n",
    "        \"A\":data[1][3]\n",
    "    },\n",
    "    \n",
    "    {\n",
    "        \"id\": data[2][0],\n",
    "        \"score\": data[2][1],\n",
    "        \"Q\":data[2][2],\n",
    "        \"A\":data[2][3]\n",
    "    }\n",
    "]"
   ]
  },
  {
   "cell_type": "markdown",
   "metadata": {},
   "source": [
    "导入数据，format： \n",
    "id    model_score   question   answer   label"
   ]
  },
  {
   "cell_type": "code",
   "execution_count": 99,
   "metadata": {},
   "outputs": [],
   "source": [
    "pada = pd.read_csv('test1.txt', sep='\\t')"
   ]
  },
  {
   "cell_type": "markdown",
   "metadata": {},
   "source": [
    "calculate performance metrix"
   ]
  },
  {
   "cell_type": "code",
   "execution_count": 101,
   "metadata": {},
   "outputs": [
    {
     "data": {
      "text/plain": [
       "0    1\n",
       "1    0\n",
       "2    1\n",
       "Name: label, dtype: int64"
      ]
     },
     "execution_count": 101,
     "metadata": {},
     "output_type": "execute_result"
    }
   ],
   "source": []
  },
  {
   "cell_type": "code",
   "execution_count": null,
   "metadata": {},
   "outputs": [],
   "source": []
  },
  {
   "cell_type": "code",
   "execution_count": null,
   "metadata": {},
   "outputs": [],
   "source": []
  },
  {
   "cell_type": "code",
   "execution_count": null,
   "metadata": {},
   "outputs": [],
   "source": []
  },
  {
   "cell_type": "code",
   "execution_count": null,
   "metadata": {},
   "outputs": [],
   "source": []
  }
 ],
 "metadata": {
  "kernelspec": {
   "display_name": "Python 3",
   "language": "python",
   "name": "python3"
  },
  "language_info": {
   "codemirror_mode": {
    "name": "ipython",
    "version": 3
   },
   "file_extension": ".py",
   "mimetype": "text/x-python",
   "name": "python",
   "nbconvert_exporter": "python",
   "pygments_lexer": "ipython3",
   "version": "3.6.5"
  }
 },
 "nbformat": 4,
 "nbformat_minor": 2
}
