{
 "cells": [
  {
   "cell_type": "code",
   "execution_count": 60,
   "metadata": {},
   "outputs": [],
   "source": [
    "import numpy as np\n",
    "import pandas as pd\n",
    "import sys, re\n",
    "import os\n",
    "import Jiyun.simple_index_builder as build\n",
    "import Jiyun.simple_retrieval as retr\n",
    "import json\n",
    "import jsonpickle"
   ]
  },
  {
   "cell_type": "code",
   "execution_count": 9,
   "metadata": {},
   "outputs": [],
   "source": [
    "DataFrame.columns.values.tolist()"
   ]
  },
  {
   "cell_type": "code",
   "execution_count": 116,
   "metadata": {},
   "outputs": [
    {
     "data": {
      "text/plain": [
       "'怎么推销'"
      ]
     },
     "execution_count": 116,
     "metadata": {},
     "output_type": "execute_result"
    }
   ],
   "source": []
  },
  {
   "cell_type": "code",
   "execution_count": 118,
   "metadata": {},
   "outputs": [
    {
     "name": "stdout",
     "output_type": "stream",
     "text": [
      "processing达尔文语料分类-多类 Final (by 6.1).xlsx\n"
     ]
    }
   ],
   "source": [
    "## build index(inverted and forward index)\n",
    "files = os.listdir(\"./Jiyun/corpus/\")\n",
    "\n",
    "for file in files:\n",
    "    if \"xlsx\" in file:\n",
    "        print(\"processing\" + file)\n",
    "        path = os.path.join(\"Jiyun/corpus/\", file)\n",
    "        qa_pairs = build.make_document_multi_round(path)\n",
    "        build.build_index(qa_pairs)"
   ]
  },
  {
   "cell_type": "code",
   "execution_count": 119,
   "metadata": {},
   "outputs": [],
   "source": [
    "## import index\n",
    "inverted_index = None\n",
    "forward_index = None\n",
    "index1 = json.loads(open('inverted_index.json').read())\n",
    "inverted_index = jsonpickle.decode(index1)\n",
    "with open('forward_index.json', 'r') as fp:\n",
    "    forward_index = json.load(fp)"
   ]
  },
  {
   "cell_type": "code",
   "execution_count": 202,
   "metadata": {},
   "outputs": [],
   "source": [
    "## import test query\n",
    "test_question = pd.read_csv('test_set.txt')\n",
    "## 提取指定列\n",
    "title_question = test_question.columns.values.tolist()[0]\n",
    "\n",
    "query = []\n",
    "for i in range(len(test_question)):\n",
    "    query.append(test_question[title][i])  \n",
    "\n",
    "\n"
   ]
  },
  {
   "cell_type": "code",
   "execution_count": 203,
   "metadata": {},
   "outputs": [],
   "source": [
    "## import ground truth\n",
    "ground_truth1 = pd.read_csv('ground_truth1.txt')\n",
    "ground_truth2 = pd.read_csv('ground_truth2.txt')\n",
    "ground_truth3 = pd.read_csv('ground_truth3.txt')\n",
    "ground_truth = [ground_truth1, ground_truth2, ground_truth3]\n",
    "title_ground_truth = ground_truth1.columns.values.tolist()[0]"
   ]
  },
  {
   "cell_type": "code",
   "execution_count": 205,
   "metadata": {},
   "outputs": [
    {
     "name": "stdout",
     "output_type": "stream",
     "text": [
      "我想推销我们公司的购物卡，应该怎么推销呢？\n",
      "你好呀 你是我的新朋友吗？\n",
      "你好啊 你可以和我一起玩吗？\n"
     ]
    }
   ],
   "source": [
    "print(ground_truth1[title_ground_truth][0])\n",
    "print(ground_truth2['问句'][1])\n",
    "print(ground_truth3['问句'][1])\n"
   ]
  },
  {
   "cell_type": "code",
   "execution_count": 308,
   "metadata": {},
   "outputs": [
    {
     "name": "stdout",
     "output_type": "stream",
     "text": [
      "Query is:\n",
      " 推销 怎么\n",
      "Query is:\n",
      " 你好 达尔 达尔文\n",
      "Query is:\n",
      " 如何 购买 你\n",
      "Query is:\n",
      " 买 怎么 你\n",
      "Query is:\n",
      " 哪 在 买 你\n",
      "Query is:\n",
      " 网站 有 吗 你\n",
      "Query is:\n",
      " APP 有 吗 你\n",
      "Query is:\n",
      " 下自 一下 介绍 自己 能 吗 你\n",
      "Query is:\n",
      " 功能 有 什么 你\n",
      "Query is:\n",
      " 陪 聊天 怎么 我\n",
      "Query is:\n",
      " 达尔 达尔文 智能 很 吗\n",
      "Query is:\n",
      " 赚钱 怎么\n",
      "Query is:\n",
      " 天 聊 我们 来 会儿\n",
      "Query is:\n",
      " 模式 训练 说 的 你\n",
      "Query is:\n",
      " 模式 说 聊天 的 你\n",
      "Query is:\n",
      " 初次 初次见面 见面 请多关照 关照\n",
      "Query is:\n",
      " 烦恼 很多 有 我\n",
      "Query is:\n",
      " 大数 数据 是 什么\n",
      "Query is:\n",
      " 意义 是 什么 的 生命\n",
      "Query is:\n",
      " 数据库 据库 数据 是 什么\n",
      "Query is:\n",
      " 虚拟 币 是 什么\n",
      "Query is:\n",
      " 谁 是 你\n",
      "Query is:\n",
      " 数字 货币 是 什么\n",
      "Query is:\n",
      " 人工 人工智能 智能 是 什么\n",
      "Query is:\n",
      " 免费 有 吗 你 免费版 版本\n",
      "Query is:\n",
      " 骗 钱 来 是 吗 的 我 你\n",
      "Query is:\n",
      " 信任 能 怎么 我 你\n",
      "Query is:\n",
      " 想 推销 我 面膜\n",
      "Query is:\n",
      " 一直 说 在 怎么 你 泰国\n",
      "Query is:\n",
      " 炒 币 吗 你\n",
      "Query is:\n",
      " 呆 着 今天 在家\n",
      "Query is:\n",
      " 思考 人生 会 吗 你\n",
      "Query is:\n",
      " 生活 是 什么 的 你 收入 来源\n",
      "Query is:\n",
      " 总是 为什么 这么 什么 你 积极 积极向上 向上\n",
      "Query is:\n",
      " 最 喜欢 是 什么 的 你 季节\n",
      "Query is:\n",
      " 总是 骗 觉得 在 我 你\n",
      "Query is:\n",
      " 觉得 啊 我 好累\n",
      "Query is:\n",
      " 总是 无关 一些 说 的 你 要紧\n",
      "Query is:\n",
      " 为了 工作 觉得 是 什么 你\n",
      "Query is:\n",
      " 不开 开心 有点 我\n",
      "Query is:\n",
      " 人生 在于 意义 呢 什么 的\n",
      "Query is:\n",
      " 兴趣 有点 对 我 你\n",
      "Query is:\n",
      " 好烦 真的 你\n",
      "Query is:\n",
      " 叫 为什么 达尔 达尔文 什么 你\n",
      "Query is:\n",
      " 名字 来 这个 达尔 达尔文 呀 怎么 的\n",
      "Query is:\n",
      " 干 啥 在 呢 你\n",
      "Query is:\n",
      " 人生 是 什么 的 你 人生哲学 哲学\n",
      "Query is:\n",
      " 应该 样子 生活 什么样 觉得 什么 的 你 该是\n",
      "Query is:\n",
      " 全部 生活 不是 赚钱 的\n",
      "Query is:\n",
      " 一定 有 吗 努力 定会 回报\n",
      "Query is:\n",
      " 大 风险 投资 吗 的 你\n",
      "Query is:\n",
      " 保持 状态 如何 学习 的 你\n",
      "Query is:\n",
      " 最好 投资方 资方 方式 投资 是 什么 的\n",
      "Query is:\n",
      " 一般 技能 觉得 推销 啊 很 的 我 你\n",
      "Query is:\n",
      " 区块 链 是 什么\n",
      "Query is:\n",
      " 会 吗 你 撒谎\n",
      "Query is:\n",
      " 联网 以使 使用 不 可以 吗 你\n",
      "Query is:\n",
      " 们 怎么办 喜欢 朋友 不 怎么 的 我 你\n",
      "Query is:\n",
      " 软件 别的 吗 你 会用\n",
      "Query is:\n",
      " 很多 还是 有 的 我 多顾虑 顾虑\n",
      "Query is:\n",
      " 老婆 不 给钱\n",
      "Query is:\n",
      " 商 微 区别 和 有 吗 你\n",
      "Query is:\n",
      " 时间 过 得 真快\n",
      "Query is:\n",
      " 下单 了\n",
      "Query is:\n",
      " 退货\n",
      "Query is:\n",
      " 烦死 肯定 朋友 了 的 我\n",
      "Query is:\n",
      " 就算 相信 不会 朋友 也 的 我 你\n",
      "Query is:\n",
      " 爱 谁 呀 是 的 你 豆\n",
      "Query is:\n",
      " 怎么办 下 了 怎么 大雨 办好\n",
      "Query is:\n",
      " 些 做 会 呢 什么 你\n",
      "Query is:\n",
      " 不会 买 是 的 我 你\n",
      "Query is:\n",
      " 浪费 时间 太 跟 聊天 了 你 浪费时间 费时 费时间\n",
      "Query is:\n",
      " 在于 意义 什么 的 你 生命\n",
      "Query is:\n",
      " 长 样子 什么样 呀 什么 你 真人\n",
      "Query is:\n",
      " 没意思 这些 意思 觉得 赚钱 什么 的 我 你\n",
      "Query is:\n",
      " 成功 推销 你 销过 几次\n",
      "Query is:\n",
      " 总是 开心 为什么 能 这么 什么 你\n"
     ]
    }
   ],
   "source": [
    "res_tmp = []\n",
    "for i in range(len(query)):\n",
    "    rslt = retr.retrieval(query[i], inverted_index)\n",
    "    res_tmp.append(rslt)"
   ]
  },
  {
   "cell_type": "code",
   "execution_count": 309,
   "metadata": {},
   "outputs": [
    {
     "data": {
      "text/plain": [
       "'1.0'"
      ]
     },
     "execution_count": 309,
     "metadata": {},
     "output_type": "execute_result"
    }
   ],
   "source": [
    "res_tmp[1][1].to_string()\n",
    "forward_index[str(res_tmp[1][1].doc_id)]\n",
    "str(res_tmp[1][1].confident)\n"
   ]
  },
  {
   "cell_type": "code",
   "execution_count": 251,
   "metadata": {},
   "outputs": [
    {
     "data": {
      "text/plain": [
       "'你是如何选择现在这个推销事业的？'"
      ]
     },
     "execution_count": 251,
     "metadata": {},
     "output_type": "execute_result"
    }
   ],
   "source": [
    "forward_index[str(res_tmp[2][1].doc_id)].split('   ')[0].strip()"
   ]
  },
  {
   "cell_type": "code",
   "execution_count": 312,
   "metadata": {},
   "outputs": [
    {
     "data": {
      "text/plain": [
       "'2184 16.662825113315947'"
      ]
     },
     "execution_count": 312,
     "metadata": {},
     "output_type": "execute_result"
    }
   ],
   "source": [
    "res_tmp[1][1].to_string()"
   ]
  },
  {
   "cell_type": "code",
   "execution_count": 314,
   "metadata": {},
   "outputs": [],
   "source": [
    "test_question_res = []\n",
    "for i in range(len(res_tmp)):\n",
    "    count = 0\n",
    "    model_res = []\n",
    "    ## 暂时设定只有前三句话 top前三\n",
    "    for j in range(3):\n",
    "                # id & socre       # Q & A -> Q                                         # confident score   #labe\n",
    "        rank = [res_tmp[i][j].to_string(), forward_index[str(res_tmp[i][j].doc_id)].split('   ')[0].strip(), str(res_tmp[i][j].confident), 0]\n",
    "        #print(line.to_string() + ' ' + forward_index[str(line.doc_id)] + ' ' + str(line.confident) )\n",
    "        ##print(forward_index[str(line.doc_id)])\n",
    "        model_res.append(rank)\n",
    "    test_question_res.append(model_res)                  "
   ]
  },
  {
   "cell_type": "code",
   "execution_count": null,
   "metadata": {},
   "outputs": [],
   "source": []
  },
  {
   "cell_type": "code",
   "execution_count": 254,
   "metadata": {},
   "outputs": [],
   "source": [
    "#ground_truth[0][title_ground_truth]\n"
   ]
  },
  {
   "cell_type": "code",
   "execution_count": 316,
   "metadata": {},
   "outputs": [],
   "source": [
    "## initialize label using ground truth\n",
    "for i in range(len(test_question_res)):\n",
    "    for j in range(len(test_question_res[0])):\n",
    "        res = test_question_res[i][j][1]\n",
    "        if res == ground_truth[0][title_ground_truth][i] or res == ground_truth[1][title_ground_truth][i] or res == ground_truth[2][title_ground_truth][i]:\n",
    "            test_question_res[i][j][3] = 1.0"
   ]
  },
  {
   "cell_type": "code",
   "execution_count": null,
   "metadata": {},
   "outputs": [],
   "source": []
  },
  {
   "cell_type": "markdown",
   "metadata": {},
   "source": [
    "导入数据，format： \n",
    "id    model_score   question   answer   label"
   ]
  },
  {
   "cell_type": "code",
   "execution_count": 3,
   "metadata": {},
   "outputs": [],
   "source": [
    "## 每个问句都是返回前三sore的问答句pair，label暂时都为0，方便之后处理\n",
    "pada1 = pd.read_csv('test1.txt', sep='\\t')\n",
    "pada2 = pd.read_csv('test2.txt', sep='\\t')\n",
    "pada3 = pd.read_csv('test3.txt', sep='\\t')\n",
    "dicts = [pada1, pada2, pada3]\n",
    "##raters = pd.read_csv('raters.txt', sep='\\t')"
   ]
  },
  {
   "cell_type": "markdown",
   "metadata": {},
   "source": [
    "dicts = []  ### dicts[pada0, pada1, pada2, pada3.......padak]"
   ]
  },
  {
   "cell_type": "code",
   "execution_count": 188,
   "metadata": {},
   "outputs": [],
   "source": [
    "def labeled(dicts, raters):\n",
    "    tmp = dicts\n",
    "    rater = raters.values.tolist()\n",
    "    if tmp == None:\n",
    "        print(\"Please load your test set!\")\n",
    "        return 0\n",
    "    lens = 0\n",
    "    if len(tmp) != len(raters):\n",
    "        lens = len(tmp)\n",
    "    else:\n",
    "        lens = len(raters)\n",
    "    \n",
    "    for i in range(lens):\n",
    "        for j in range(len(tmp[i]['answer'])):\n",
    "            if tmp[i]['answer'][j] == rater[i][1]:\n",
    "                tmp[i]['label'][j] = 1\n",
    "                continue\n",
    "            elif tmp[i]['answer'][j] == rater[i][2]:\n",
    "                tmp[i]['label'][j] = 1\n",
    "                continue\n",
    "            elif tmp[i]['answer'][j] == rater[i][3]:\n",
    "                tmp[i]['label'][j] = 1\n",
    "                continue  \n",
    "            else:\n",
    "                tmp[i]['label'][j] = 0\n",
    "    return tmp, rater"
   ]
  },
  {
   "cell_type": "code",
   "execution_count": 260,
   "metadata": {
    "scrolled": true
   },
   "outputs": [],
   "source": [
    "#test_question_res"
   ]
  },
  {
   "cell_type": "code",
   "execution_count": null,
   "metadata": {},
   "outputs": [],
   "source": []
  },
  {
   "cell_type": "code",
   "execution_count": null,
   "metadata": {},
   "outputs": [],
   "source": []
  },
  {
   "cell_type": "code",
   "execution_count": 315,
   "metadata": {},
   "outputs": [
    {
     "data": {
      "text/plain": [
       "3"
      ]
     },
     "execution_count": 315,
     "metadata": {},
     "output_type": "execute_result"
    }
   ],
   "source": [
    "len(test_question_res[0])\n"
   ]
  },
  {
   "cell_type": "markdown",
   "metadata": {},
   "source": [
    "calculate the matrix\n",
    "df.values.tolist()"
   ]
  },
  {
   "cell_type": "code",
   "execution_count": 324,
   "metadata": {},
   "outputs": [],
   "source": [
    "sum = 0\n",
    "### precision@1\n",
    "for i in range(len(test_question_res)):\n",
    "    #print(test_question_res[i][1][3])\n",
    "    sum += test_question_res[i][0][3]\n",
    "    \n",
    "precision1 = sum / len(test_question_res)\n",
    "\n"
   ]
  },
  {
   "cell_type": "code",
   "execution_count": 325,
   "metadata": {},
   "outputs": [
    {
     "data": {
      "text/plain": [
       "0.15584415584415584"
      ]
     },
     "execution_count": 325,
     "metadata": {},
     "output_type": "execute_result"
    }
   ],
   "source": [
    "precision1"
   ]
  },
  {
   "cell_type": "code",
   "execution_count": 326,
   "metadata": {},
   "outputs": [],
   "source": [
    "def precision(dicts, k):\n",
    "    if dicts == None:\n",
    "        print(\"Please load your test set!\")\n",
    "        return 0\n",
    "    if k <= 0 or k > len(dicts):\n",
    "        print(\"please input a valid value for k, which is from 1  to\" + len(dicts))\n",
    "        return 0\n",
    "    \n",
    "    sum = 0\n",
    "    lens = len(dicts)\n",
    "    ## 对于sample中每一个rank为k的问答句pair precision@k = sum / sample中所有rank为k的问句总数\n",
    "    for i in range(lens):\n",
    "        #print(test_question_res[i][1][3])\n",
    "        sum += dicts[i][k-1][3]\n",
    "\n",
    "    precision = sum / len(test_question_res)\n",
    "    return precision\n",
    "\n",
    "\n",
    "\n",
    "\n",
    "## MAP value\n",
    "def mAP(dicts, k):\n",
    "    \n",
    "    if dicts == None:\n",
    "        print(\"Please load your test set!\")\n",
    "        return 0\n",
    "    if k <= 0 or k > len(dicts):\n",
    "        print(\"please input a valid value for k, which is from 1  to\" + len(dicts))\n",
    "        return 0\n",
    "    \n",
    "    sum1 = 0\n",
    "    for i in range(len(dicts)):\n",
    "        sum2 = 0\n",
    "        Nq = 0\n",
    "        for j in range(k):\n",
    "            sum2 += precision(dicts, j+1) * (precision(dicts, j+1) * len(dicts))\n",
    "        for r in range(len(dicts[0])):\n",
    "            Nq += dicts[i][r][3]\n",
    "\n",
    "        if Nq == 0:\n",
    "            sum1 += 0\n",
    "        else:\n",
    "            sum1 += sum2 / Nq\n",
    "\n",
    "    return sum1 / len(dicts)\n",
    "\n",
    "\n",
    "## MRR\n",
    "def mRR(dicts):\n",
    "    if dicts == None:\n",
    "        print(\"Please load your test set!\")\n",
    "        return 0\n",
    "    \n",
    "    sum1 = 0\n",
    "    for i in range(len(dicts)):\n",
    "        for j in range(len(dicts[0])):\n",
    "            if(dicts[i][j][3] == 1):\n",
    "                sum1 += 1 / (j + 1)\n",
    "\n",
    "    return sum1 / len(dicts)\n",
    "\n",
    "\n",
    "## Z is a constant number\n",
    "Z = 2.331\n",
    "\n",
    "## nDCG\n",
    "def nDCG(dicts, k):\n",
    "    if dicts == None:\n",
    "        print(\"Please load your test set!\")\n",
    "        return 0\n",
    "    if k <= 0 or k > len(dicts):\n",
    "        print(\"please input a valid value for k, which is from 1  to\" + len(dicts))\n",
    "        return 0\n",
    "    \n",
    "    sum1 = 0\n",
    "    for i in range(len(dicts)):\n",
    "        sum2 = 0\n",
    "        for i in range(k):\n",
    "            sum2 += (2**(precision(dicts, i+1) * len(dicts)) - 1) / np.log(1 + (i+1))\n",
    "        \n",
    "        sum1 += sum2 / Z\n",
    "                     \n",
    "        return sum1 / len(dicts)\n"
   ]
  },
  {
   "cell_type": "code",
   "execution_count": 331,
   "metadata": {},
   "outputs": [
    {
     "name": "stdout",
     "output_type": "stream",
     "text": [
      "precision@1 is: 0.15584415584415584\n",
      "MAP@1 is: 0.3764547141170518\n",
      "MRR is: 0.20346320346320346\n",
      "nDCG@1 is: 32.915120273001975\n"
     ]
    }
   ],
   "source": [
    "print(\"precision@1 is: \" + str(precision(test_question_res, 1)))\n",
    "print(\"MAP@1 is: \" + str(mAP(test_question_res, 1)))\n",
    "print(\"MRR is: \" + str(mRR(test_question_res)))\n",
    "print(\"nDCG@1 is: \" + str(nDCG(test_question_res, 1)))"
   ]
  },
  {
   "cell_type": "code",
   "execution_count": 332,
   "metadata": {},
   "outputs": [
    {
     "name": "stdout",
     "output_type": "stream",
     "text": [
      "precision@1 is: 0.15584415584415584\n",
      "precision@2 is: 0.07792207792207792\n",
      "precision@3 is: 0.025974025974025976\n"
     ]
    }
   ],
   "source": [
    "print(\"precision@1 is: \" + str(precision(test_question_res, 1)))\n",
    "print(\"precision@2 is: \" + str(precision(test_question_res, 2)))\n",
    "print(\"precision@3 is: \" + str(precision(test_question_res, 3)))"
   ]
  },
  {
   "cell_type": "code",
   "execution_count": null,
   "metadata": {},
   "outputs": [],
   "source": []
  }
 ],
 "metadata": {
  "kernelspec": {
   "display_name": "Python 3",
   "language": "python",
   "name": "python3"
  },
  "language_info": {
   "codemirror_mode": {
    "name": "ipython",
    "version": 3
   },
   "file_extension": ".py",
   "mimetype": "text/x-python",
   "name": "python",
   "nbconvert_exporter": "python",
   "pygments_lexer": "ipython3",
   "version": "3.6.6"
  }
 },
 "nbformat": 4,
 "nbformat_minor": 2
}
